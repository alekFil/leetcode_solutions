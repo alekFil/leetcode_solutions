{
 "cells": [
  {
   "cell_type": "markdown",
   "metadata": {},
   "source": [
    "# [26. Remove Duplicates from Sorted Array](https://leetcode.com/problems/remove-duplicates-from-sorted-array/)\n",
    "\n",
    "[Youtube](https://www.youtube.com/results?search_query=Remove%20Duplicates%20from%20Sorted%20Array%20Leetcode%2026)"
   ]
  },
  {
   "cell_type": "markdown",
   "metadata": {},
   "source": [
    "## Подходы:\n",
    "\n",
    "1. [Использование дополнительной памяти](#использование-дополнительной-памяти)\n",
    "2. [Два указателя](#два-указателя)"
   ]
  },
  {
   "cell_type": "markdown",
   "metadata": {},
   "source": [
    "### Использование дополнительной памяти"
   ]
  },
  {
   "cell_type": "markdown",
   "metadata": {},
   "source": [
    "**Описание подхода:**\n",
    "\n",
    "Задача требует оставить только уникальные элементы в отсортированном массиве. Простой подход заключается в использовании дополнительной памяти, где мы будем сохранять эти уникальные элементы.\n",
    "\n",
    "1. Пройти по массиву и отслеживать последний уникальный элемент.\n",
    "2. Для каждого нового элемента, отличающегося от последнего, добавить его в новый список.\n",
    "3. По завершении копируем уникальные элементы обратно в исходный массив.\n",
    "\n",
    "Этот подход прост, но нарушает ограничения задачи относительно дополнительной памяти.\n",
    "\n",
    "**Код решения:**"
   ]
  },
  {
   "cell_type": "code",
   "execution_count": 5,
   "metadata": {},
   "outputs": [],
   "source": [
    "from typing import List\n",
    "\n",
    "class Solution:\n",
    "    def removeDuplicates(self, nums: List[int]) -> int:\n",
    "        if not nums:\n",
    "            return 0\n",
    "        \n",
    "        unique_nums = [nums[0]]  # Начинаем с первого элемента\n",
    "        \n",
    "        for num in nums[1:]:  # Проверяем начиная со второго элемента\n",
    "            if num != unique_nums[-1]:  # Добавляем только, если текущий элемент отличается\n",
    "                unique_nums.append(num)\n",
    "        \n",
    "        # Копируем элементы unique_nums обратно в nums\n",
    "        for i in range(len(unique_nums)):\n",
    "            nums[i] = unique_nums[i]\n",
    "        \n",
    "        return len(unique_nums)"
   ]
  },
  {
   "cell_type": "code",
   "execution_count": 6,
   "metadata": {},
   "outputs": [],
   "source": [
    "# Test cases\n",
    "test_cases = [\n",
    "    [1,1,2],\n",
    "    [0,0,1,1,1,2,2,3,3,4],\n",
    "]"
   ]
  },
  {
   "cell_type": "code",
   "execution_count": 7,
   "metadata": {},
   "outputs": [
    {
     "name": "stdout",
     "output_type": "stream",
     "text": [
      "2\n",
      "5\n"
     ]
    }
   ],
   "source": [
    "# Run tests\n",
    "for nums in test_cases:\n",
    "    res = Solution().removeDuplicates(nums)\n",
    "    print(res)"
   ]
  },
  {
   "cell_type": "markdown",
   "metadata": {},
   "source": [
    "**Анализ сложности:**\n",
    "\n",
    "- **Временная сложность:** \\(O(n)\\), так как мы проходим по массиву один раз, а дополнительное пространство также заполняется за линейное время.\n",
    "- **Пространственная сложность:** \\(O(n)\\), так как используется дополнительный спискок для хранения уникальных элементов."
   ]
  },
  {
   "cell_type": "markdown",
   "metadata": {},
   "source": [
    "### Два указателя"
   ]
  },
  {
   "cell_type": "markdown",
   "metadata": {},
   "source": [
    "**Описание подхода:**\n",
    "\n",
    "Чтобы решить задачу `in-place`, можно использовать технику двух указателей. \n",
    "\n",
    "1. **Указатель `i`:** проходит по каждому элементу массива.\n",
    "2. **Указатель `j`:** отслеживает, где должен быть следующий уникальный элемент.\n",
    "\n",
    "Идея заключается в том, чтобы итерироваться по массиву с помощью `i`, и всякий раз, когда находится новый уникальный элемент (т.е. `nums[i] != nums[j]`), мы увеличиваем `j` и обновляем `nums[j]` значением `nums[i]`. Это эффективно сдвигает уникальные элементы к началу массива.\n",
    "\n",
    "**Код решения:**"
   ]
  },
  {
   "cell_type": "code",
   "execution_count": 8,
   "metadata": {},
   "outputs": [],
   "source": [
    "from typing import List\n",
    "\n",
    "class Solution:\n",
    "    def removeDuplicates(self, nums: List[int]) -> int:\n",
    "        prev = nums[0]\n",
    "        last = 1\n",
    "\n",
    "        for i in range(1, len(nums)):\n",
    "            cur = nums[i]\n",
    "            if cur != prev:\n",
    "                nums[last], nums[i] = nums[i], nums[last]\n",
    "                prev = cur\n",
    "                last += 1\n",
    "        \n",
    "        return last"
   ]
  },
  {
   "cell_type": "code",
   "execution_count": 9,
   "metadata": {},
   "outputs": [
    {
     "name": "stdout",
     "output_type": "stream",
     "text": [
      "2\n",
      "8\n"
     ]
    }
   ],
   "source": [
    "# Run tests\n",
    "for nums in test_cases:\n",
    "    res = Solution().removeDuplicates(nums)\n",
    "    print(res)"
   ]
  },
  {
   "cell_type": "markdown",
   "metadata": {},
   "source": [
    "**Анализ сложности:**\n",
    "\n",
    "- **Временная сложность:** \\(O(n)\\), так как проходим по массиву только один раз.\n",
    "- **Пространственная сложность:** \\(O(1)\\), так как используется только константное количество дополнительной памяти (переменные `i` и `j`)."
   ]
  }
 ],
 "metadata": {
  "kernelspec": {
   "display_name": "leetcode_solution",
   "language": "python",
   "name": "python3"
  },
  "language_info": {
   "codemirror_mode": {
    "name": "ipython",
    "version": 3
   },
   "file_extension": ".py",
   "mimetype": "text/x-python",
   "name": "python",
   "nbconvert_exporter": "python",
   "pygments_lexer": "ipython3",
   "version": "3.11.11"
  }
 },
 "nbformat": 4,
 "nbformat_minor": 2
}
