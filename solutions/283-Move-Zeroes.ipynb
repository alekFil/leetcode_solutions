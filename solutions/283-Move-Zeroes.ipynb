{
 "cells": [
  {
   "cell_type": "markdown",
   "metadata": {},
   "source": [
    "# [283. Move Zeroes](https://leetcode.com/problems/move-zeroes/)"
   ]
  },
  {
   "cell_type": "markdown",
   "metadata": {},
   "source": [
    "## Подходы к решению\n",
    "1. [Наивный подход — использование дополнительного массива](#наивный-подход)\n",
    "2. [Оптимальный подход — метод двух указателей](#оптимальный-подход)"
   ]
  },
  {
   "cell_type": "markdown",
   "metadata": {},
   "source": [
    "### Наивный подход — использование дополнительного массива"
   ]
  },
  {
   "cell_type": "markdown",
   "metadata": {},
   "source": [
    "**Описание подхода:**\n",
    "\n",
    "Данный подход использует дополнительный массив для хранения ненулевых элементов отдельно, а затем добавляет нули в конец массива. Суть заключается в том, чтобы пройтись по исходному массиву, собрать ненулевые элементы в отдельный список, а затем заполнить остаток исходного массива нулями.\n",
    "\n",
    "**Алгоритм:**\n",
    "\n",
    "1. Инициализировать пустой список `result` для хранения ненулевых элементов.\n",
    "2. Пройтись по каждому элементу num в массиве `nums`.\n",
    "3. Если num не равен нулю, добавить его в список `result`.\n",
    "4. Вычислить количество нулей zero_count, вычтя длину `result` из длины `nums`.\n",
    "5. Добавить к списку `result` список нулей длиной `[0] * zero_count`.\n",
    "6. Заменить элементы массива `nums` элементами из `result`, чтобы выполнить задачу на месте.\n",
    "\n",
    "**Код решения:**"
   ]
  },
  {
   "cell_type": "code",
   "execution_count": 16,
   "metadata": {},
   "outputs": [
    {
     "name": "stdout",
     "output_type": "stream",
     "text": [
      "[1, 3, 12, 0, 0]\n"
     ]
    }
   ],
   "source": [
    "from typing import List\n",
    "\n",
    "class Solution:\n",
    "    def moveZeroes(self, nums: List[int]) -> None:\n",
    "        \"\"\"\n",
    "        Do not return anything, modify nums in-place instead.\n",
    "        \"\"\"\n",
    "        residuals = []\n",
    "        zeros = 0\n",
    "        steps = len(nums)\n",
    "        for i in range(steps):\n",
    "            if nums[i] == 0:\n",
    "                zeros += 1\n",
    "            else:\n",
    "                residuals.append(nums[i])\n",
    "        \n",
    "        result = residuals + [0] * zeros\n",
    "\n",
    "        for i in range(len(result)):\n",
    "            nums[i] = result[i]\n",
    "\n",
    "nums = [0,1,0,3,12]\n",
    "Solution().moveZeroes(nums)\n",
    "print(nums)"
   ]
  },
  {
   "cell_type": "code",
   "execution_count": 17,
   "metadata": {},
   "outputs": [],
   "source": [
    "# Test cases\n",
    "test_cases = [\n",
    "    [0,1,0,3,12],\n",
    "    [0],\n",
    "    [1, 2, 3, 5, 4],\n",
    "    [-1, 0, 2, 0, -2]\n",
    "]"
   ]
  },
  {
   "cell_type": "code",
   "execution_count": 18,
   "metadata": {},
   "outputs": [
    {
     "name": "stdout",
     "output_type": "stream",
     "text": [
      "[1, 3, 12, 0, 0]\n",
      "[0]\n",
      "[1, 2, 3, 5, 4]\n",
      "[-1, 2, -2, 0, 0]\n"
     ]
    }
   ],
   "source": [
    "# Run tests\n",
    "for nums in test_cases:\n",
    "    Solution().moveZeroes(nums)\n",
    "    print(nums)"
   ]
  },
  {
   "cell_type": "markdown",
   "metadata": {},
   "source": [
    "**Complexity Analysis:**\n",
    "\n",
    "- **Time Complexity:** \\(O(n)\\), так как мы дважды проходим по массиву.\n",
    "- **Space Complexity:** \\(O(1)\\), так как используется дополнительный список `result`."
   ]
  },
  {
   "cell_type": "markdown",
   "metadata": {},
   "source": [
    "### Оптимальный подход — метод двух указателей"
   ]
  },
  {
   "cell_type": "markdown",
   "metadata": {},
   "source": [
    "**Описание подхода:**\n",
    "\n",
    "Этот подход улучшает наивный, убирая необходимость в дополнительном списке. Вместо этого элементы переставляются на месте с использованием двух указателей. Мы поддерживаем указатель `last_non_zero_found_at`, который отслеживает позицию последнего найденного ненулевого элемента. Во время итерации мы меняем местами текущий ненулевой элемент с элементом на позиции `last_non_zero_found_at`.\n",
    "\n",
    "**Алгоритм:**\n",
    "\n",
    "1. Инициализировать указатель `last_non_zero_found_at` на индексе `0`.\n",
    "2. Пройтись по каждому элементу массива `nums` с использованием указателя `i`.\n",
    "3. Если текущий элемент `nums[i]` не равен нулю, поменять местами `nums[i]` и `nums[last_non_zero_found_at]`.\n",
    "4. Увеличить `last_non_zero_found_at` после обмена для перехода к следующей позиции.\n",
    "5. После завершения итерации все ненулевые элементы окажутся в начале, а остальные — нулями.\n",
    "\n",
    "**Код решения:**"
   ]
  },
  {
   "cell_type": "code",
   "execution_count": 19,
   "metadata": {},
   "outputs": [],
   "source": [
    "from typing import List\n",
    "\n",
    "class Solution:\n",
    "    def moveZeroes(self, nums: List[int]) -> None:\n",
    "        \"\"\"\n",
    "        Do not return anything, modify nums in-place instead.\n",
    "        \"\"\"\n",
    "        last_non_zero_index = 0\n",
    "        \n",
    "        for i in range(len(nums)):\n",
    "            if nums[i] != 0:\n",
    "                nums[last_non_zero_index], nums[i] = nums[i], nums[last_non_zero_index]\n",
    "                last_non_zero_index += 1"
   ]
  },
  {
   "cell_type": "code",
   "execution_count": 20,
   "metadata": {},
   "outputs": [
    {
     "name": "stdout",
     "output_type": "stream",
     "text": [
      "[1, 3, 12, 0, 0]\n",
      "[0]\n",
      "[1, 2, 3, 5, 4]\n",
      "[-1, 2, -2, 0, 0]\n"
     ]
    }
   ],
   "source": [
    "# Run tests\n",
    "for nums in test_cases:\n",
    "    Solution().moveZeroes(nums)\n",
    "    print(nums)"
   ]
  },
  {
   "cell_type": "markdown",
   "metadata": {},
   "source": [
    "**Complexity Analysis:**\n",
    "\n",
    "- **Time Complexity:** \\(O(n)\\), так как массив проходится ровно один раз, а обмен значений выполняется за \\(O(1)\\).\n",
    "- **Space Complexity:** \\(O(1)\\), так как не используется дополнительная память.\n",
    "\n",
    "Этот подход является оптимальным, так как достигает одновременно высокой производительности и низких затрат по памяти, что делает его подходящим для задач с ограничениями по памяти."
   ]
  },
  {
   "cell_type": "markdown",
   "metadata": {},
   "source": []
  }
 ],
 "metadata": {
  "kernelspec": {
   "display_name": "leetcode_solution",
   "language": "python",
   "name": "python3"
  },
  "language_info": {
   "codemirror_mode": {
    "name": "ipython",
    "version": 3
   },
   "file_extension": ".py",
   "mimetype": "text/x-python",
   "name": "python",
   "nbconvert_exporter": "python",
   "pygments_lexer": "ipython3",
   "version": "3.11.11"
  }
 },
 "nbformat": 4,
 "nbformat_minor": 2
}
