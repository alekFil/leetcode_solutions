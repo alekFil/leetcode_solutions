{
 "cells": [
  {
   "cell_type": "markdown",
   "metadata": {},
   "source": [
    "# [169. Majority Element](https://leetcode.com/problems/majority-element/)\n",
    "\n",
    "[Youtube](https://www.youtube.com/results?search_query=Majority%20Element%20Leetcode%20169)"
   ]
  },
  {
   "cell_type": "markdown",
   "metadata": {},
   "source": [
    "## Подходы:\n",
    "\n",
    "1. [Полный перебор](#полный-перебор)  \n",
    "2. [Подсчёт с помощью хэш-таблицы](#подсчёт-с-помощью-хэш-таблицы)  \n",
    "3. [Сортировка](#сортировка)  \n",
    "4. [Алгоритм голосования Бойера-Мура](#алгоритм-голосования-бойера-мура)  "
   ]
  },
  {
   "cell_type": "markdown",
   "metadata": {},
   "source": [
    "### Полный перебор"
   ]
  },
  {
   "cell_type": "markdown",
   "metadata": {},
   "source": [
    "**Описание подхода:**\n",
    "\n",
    "Так как элемент большинства появляется более чем `n/2` раз, проверка количества каждого элемента и сравнение его с `n/2` позволяет определить элемент большинства.\n",
    "\n",
    "**Код решения:**"
   ]
  },
  {
   "cell_type": "code",
   "execution_count": 9,
   "metadata": {},
   "outputs": [],
   "source": [
    "from typing import List\n",
    "\n",
    "class Solution:\n",
    "    def majorityElement(self, nums: List[int]) -> int:\n",
    "        majority_count = len(nums) // 2\n",
    "        for num in nums:\n",
    "            count = sum(1 for elem in nums if elem == num)\n",
    "            if count > majority_count:\n",
    "                return num"
   ]
  },
  {
   "cell_type": "code",
   "execution_count": 10,
   "metadata": {},
   "outputs": [],
   "source": [
    "# Test cases\n",
    "test_cases = [\n",
    "    [3,2,3],\n",
    "    [2,2,1,1,1,2,2],\n",
    "]"
   ]
  },
  {
   "cell_type": "code",
   "execution_count": 11,
   "metadata": {},
   "outputs": [
    {
     "name": "stdout",
     "output_type": "stream",
     "text": [
      "3\n",
      "2\n"
     ]
    }
   ],
   "source": [
    "# Run tests\n",
    "for nums in test_cases:\n",
    "    res = Solution().majorityElement(nums)\n",
    "    print(res)"
   ]
  },
  {
   "cell_type": "markdown",
   "metadata": {},
   "source": [
    "**Анализ сложности:**\n",
    "\n",
    "- **Временная сложность:** \\(O(n^2)\\), так как массив обходится дважды: первый раз для выбора элемента, второй раз для подсчёта его вхождений.\n",
    "- **Пространственная сложность:** \\(O(1)\\), так как не используется дополнительная память, только переменные."
   ]
  },
  {
   "cell_type": "markdown",
   "metadata": {},
   "source": [
    "### Подсчёт с помощью хэш-таблицы"
   ]
  },
  {
   "cell_type": "markdown",
   "metadata": {},
   "source": [
    "**Описание подхода:**\n",
    "\n",
    "Использование словаря для подсчёта количества вхождений каждого элемента и проверки, какой элемент является элементом большинства, сравнивая его с `n/2`. Этот подход использует хэш-таблицу для хранения количества элементов, что позволяет выполнять проверки за константное время.\n",
    "\n",
    "**Код решения:**"
   ]
  },
  {
   "cell_type": "code",
   "execution_count": 12,
   "metadata": {},
   "outputs": [],
   "source": [
    "from typing import List\n",
    "\n",
    "class Solution:\n",
    "    def majorityElement(self, nums: List[int]) -> int:\n",
    "        cache = {}\n",
    "        for i in range(len(nums)):\n",
    "            if nums[i] not in cache:\n",
    "                cache[nums[i]] = 0\n",
    "            cache[nums[i]] += 1\n",
    "        maj_element_count = 0\n",
    "        maj_element = None\n",
    "        for k, v in cache.items():\n",
    "            if v > maj_element_count:\n",
    "                maj_element = k\n",
    "                maj_element_count = v\n",
    "        \n",
    "        return maj_element"
   ]
  },
  {
   "cell_type": "code",
   "execution_count": 13,
   "metadata": {},
   "outputs": [
    {
     "name": "stdout",
     "output_type": "stream",
     "text": [
      "3\n",
      "2\n"
     ]
    }
   ],
   "source": [
    "# Run tests\n",
    "for nums in test_cases:\n",
    "    res = Solution().majorityElement(nums)\n",
    "    print(res)"
   ]
  },
  {
   "cell_type": "markdown",
   "metadata": {},
   "source": [
    "**Анализ сложности:**\n",
    "\n",
    "- **Временная сложность:** \\(O(n)\\), так как осуществляется только один проход по массиву, операции с хэш-таблицей выполняются за O(1).\n",
    "- **Пространственная сложность:** \\(O(n)\\), так как хэш-таблица может содержать до n уникальных элементов."
   ]
  },
  {
   "cell_type": "markdown",
   "metadata": {},
   "source": [
    "### Сортировка"
   ]
  },
  {
   "cell_type": "markdown",
   "metadata": {},
   "source": [
    "**Описание подхода:**\n",
    "\n",
    "сли массив отсортировать, то элемент большинства всегда будет находиться в позиции `n/2`. Сортировка массива перемещает элемент большинства в центральную позицию, так как он появляется более чем в половине элементов.\n",
    "\n",
    "**Код решения:**"
   ]
  },
  {
   "cell_type": "code",
   "execution_count": 14,
   "metadata": {},
   "outputs": [],
   "source": [
    "from typing import List\n",
    "\n",
    "class Solution:\n",
    "    def majorityElement(self, nums: List[int]) -> int:\n",
    "        nums.sort()\n",
    "        return nums[len(nums) // 2]"
   ]
  },
  {
   "cell_type": "code",
   "execution_count": 15,
   "metadata": {},
   "outputs": [
    {
     "name": "stdout",
     "output_type": "stream",
     "text": [
      "3\n",
      "2\n"
     ]
    }
   ],
   "source": [
    "# Run tests\n",
    "for nums in test_cases:\n",
    "    res = Solution().majorityElement(nums)\n",
    "    print(res)"
   ]
  },
  {
   "cell_type": "markdown",
   "metadata": {},
   "source": [
    "**Анализ сложности:**\n",
    "\n",
    "- **Временная сложность:** \\(O(n log n)\\), так как зависит только от операции сортировки.\n",
    "- **Пространственная сложность:** \\(O(n)\\), так как при использовании встроенной сортировки Python может потребоваться дополнительная память."
   ]
  },
  {
   "cell_type": "markdown",
   "metadata": {},
   "source": [
    "### Алгоритм голосования Бойера-Мура"
   ]
  },
  {
   "cell_type": "markdown",
   "metadata": {},
   "source": [
    "**Описание подхода:**\n",
    "\n",
    "Этот алгоритм определяет элемент большинства, поддерживая счётчик: увеличивает его для того же элемента и уменьшает для другого. Алгоритм использует тот факт, что элемент большинства появляется более чем в половине элементов списка, позволяя «аннулировать» элементы, которые не являются элементом большинства.\n",
    "\n",
    "**Код решения:**"
   ]
  },
  {
   "cell_type": "code",
   "execution_count": 16,
   "metadata": {},
   "outputs": [],
   "source": [
    "from typing import List\n",
    "\n",
    "class Solution:\n",
    "    def majorityElement(self, nums: List[int]) -> int:\n",
    "        count = 0\n",
    "        candidate = None\n",
    "\n",
    "        for num in nums:\n",
    "            if count == 0:\n",
    "                candidate = num\n",
    "            count += (1 if num == candidate else -1)\n",
    "\n",
    "        return candidate"
   ]
  },
  {
   "cell_type": "code",
   "execution_count": 17,
   "metadata": {},
   "outputs": [
    {
     "name": "stdout",
     "output_type": "stream",
     "text": [
      "3\n",
      "2\n"
     ]
    }
   ],
   "source": [
    "# Run tests\n",
    "for nums in test_cases:\n",
    "    res = Solution().majorityElement(nums)\n",
    "    print(res)"
   ]
  },
  {
   "cell_type": "markdown",
   "metadata": {},
   "source": [
    "**Анализ сложности:**\n",
    "\n",
    "- **Временная сложность:** \\(O(n)\\), так как массив обходится один раз.\n",
    "- **Пространственная сложность:** \\(O(1)\\), так как используются только несколько переменных."
   ]
  },
  {
   "cell_type": "markdown",
   "metadata": {},
   "source": []
  }
 ],
 "metadata": {
  "kernelspec": {
   "display_name": "leetcode_solution",
   "language": "python",
   "name": "python3"
  },
  "language_info": {
   "codemirror_mode": {
    "name": "ipython",
    "version": 3
   },
   "file_extension": ".py",
   "mimetype": "text/x-python",
   "name": "python",
   "nbconvert_exporter": "python",
   "pygments_lexer": "ipython3",
   "version": "3.11.11"
  }
 },
 "nbformat": 4,
 "nbformat_minor": 2
}
